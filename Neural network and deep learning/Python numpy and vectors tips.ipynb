{
 "cells": [
  {
   "cell_type": "code",
   "execution_count": 1,
   "id": "ff5d3988",
   "metadata": {},
   "outputs": [],
   "source": [
    "import numpy as np\n",
    "\n",
    "a = np.random.randn(5)"
   ]
  },
  {
   "cell_type": "code",
   "execution_count": 2,
   "id": "a938c400",
   "metadata": {},
   "outputs": [
    {
     "data": {
      "text/plain": [
       "array([-0.34980907,  0.96412955, -0.20821984,  1.47587656,  0.56444975])"
      ]
     },
     "execution_count": 2,
     "metadata": {},
     "output_type": "execute_result"
    }
   ],
   "source": [
    "a"
   ]
  },
  {
   "cell_type": "code",
   "execution_count": 3,
   "id": "0677db30",
   "metadata": {},
   "outputs": [
    {
     "data": {
      "text/plain": [
       "(5,)"
      ]
     },
     "execution_count": 3,
     "metadata": {},
     "output_type": "execute_result"
    }
   ],
   "source": [
    "a.shape #nither row vector nor column vector"
   ]
  },
  {
   "cell_type": "code",
   "execution_count": 4,
   "id": "8d25604f",
   "metadata": {},
   "outputs": [
    {
     "name": "stdout",
     "output_type": "stream",
     "text": [
      "[-0.34980907  0.96412955 -0.20821984  1.47587656  0.56444975]\n"
     ]
    }
   ],
   "source": [
    "print(a.T)#a and aT(transpose) look the same"
   ]
  },
  {
   "cell_type": "code",
   "execution_count": 5,
   "id": "e724f20d",
   "metadata": {},
   "outputs": [
    {
     "data": {
      "text/plain": [
       "(5,)"
      ]
     },
     "execution_count": 5,
     "metadata": {},
     "output_type": "execute_result"
    }
   ],
   "source": [
    "a.T.shape"
   ]
  },
  {
   "cell_type": "code",
   "execution_count": 6,
   "id": "9c754242",
   "metadata": {},
   "outputs": [
    {
     "data": {
      "text/plain": [
       "3.5920828214282357"
      ]
     },
     "execution_count": 6,
     "metadata": {},
     "output_type": "execute_result"
    }
   ],
   "source": [
    "np.dot(a,a.T) #gives  out a number"
   ]
  },
  {
   "cell_type": "code",
   "execution_count": 7,
   "id": "82b73390",
   "metadata": {},
   "outputs": [
    {
     "data": {
      "text/plain": [
       "array([[0.27974447],\n",
       "       [0.96858128],\n",
       "       [0.83742114],\n",
       "       [0.55065839],\n",
       "       [0.40447289]])"
      ]
     },
     "execution_count": 7,
     "metadata": {},
     "output_type": "execute_result"
    }
   ],
   "source": [
    "b = np.random.rand(5,1) #commits as a 5*1 column vector\n",
    "b"
   ]
  },
  {
   "cell_type": "code",
   "execution_count": 8,
   "id": "1f97e22d",
   "metadata": {},
   "outputs": [
    {
     "data": {
      "text/plain": [
       "array([[0.27974447, 0.96858128, 0.83742114, 0.55065839, 0.40447289]])"
      ]
     },
     "execution_count": 8,
     "metadata": {},
     "output_type": "execute_result"
    }
   ],
   "source": [
    "b.T"
   ]
  },
  {
   "cell_type": "code",
   "execution_count": 9,
   "id": "007a1d17",
   "metadata": {},
   "outputs": [
    {
     "data": {
      "text/plain": [
       "array([[0.07825697, 0.27095525, 0.23426393, 0.15404364, 0.11314905],\n",
       "       [0.27095525, 0.93814969, 0.81111044, 0.53335741, 0.39176487],\n",
       "       [0.23426393, 0.81111044, 0.70127416, 0.46113298, 0.33871415],\n",
       "       [0.15404364, 0.53335741, 0.46113298, 0.30322466, 0.22272639],\n",
       "       [0.11314905, 0.39176487, 0.33871415, 0.22272639, 0.16359832]])"
      ]
     },
     "execution_count": 9,
     "metadata": {},
     "output_type": "execute_result"
    }
   ],
   "source": [
    "np.dot(b,b.T)"
   ]
  },
  {
   "cell_type": "code",
   "execution_count": 10,
   "id": "bb84416c",
   "metadata": {},
   "outputs": [
    {
     "data": {
      "text/plain": [
       "array([[[1],\n",
       "        [2]],\n",
       "\n",
       "       [[3],\n",
       "        [4]]])"
      ]
     },
     "execution_count": 10,
     "metadata": {},
     "output_type": "execute_result"
    }
   ],
   "source": [
    "np.array([[[1],[2]],[[3],[4]]])"
   ]
  },
  {
   "cell_type": "code",
   "execution_count": 11,
   "id": "808f9389",
   "metadata": {},
   "outputs": [],
   "source": [
    "an = np.random.randn(1228,150)\n",
    "ab = np.random.randn(150,45)"
   ]
  },
  {
   "cell_type": "code",
   "execution_count": 12,
   "id": "0cbd0129",
   "metadata": {},
   "outputs": [
    {
     "data": {
      "text/plain": [
       "(1228, 45)"
      ]
     },
     "execution_count": 12,
     "metadata": {},
     "output_type": "execute_result"
    }
   ],
   "source": [
    "np.dot(an,ab).shape"
   ]
  },
  {
   "cell_type": "code",
   "execution_count": 13,
   "id": "d1411f32",
   "metadata": {},
   "outputs": [
    {
     "data": {
      "text/plain": [
       "array([[  3.91432859,  -9.78496143,  -1.05313405, ...,  -9.34065587,\n",
       "        -13.80918656,   4.63293496],\n",
       "       [ -7.9772719 , -15.07351063, -10.0995431 , ...,  12.87766546,\n",
       "          8.3617837 ,   2.59783472],\n",
       "       [-13.56563497,  17.18224275, -23.57579578, ...,  10.16891954,\n",
       "         -2.61052014,   1.8912476 ],\n",
       "       ...,\n",
       "       [ -7.29832357,  24.38483096,  26.85439665, ...,  -3.21108625,\n",
       "         -5.57725755,  25.13161492],\n",
       "       [ 17.34458857,   8.66067028,  -1.07282769, ...,  -4.93449501,\n",
       "         -3.28673625,   5.93433378],\n",
       "       [ 17.08577082,   0.19349536,  19.23911473, ...,  -0.13587844,\n",
       "        -16.09241762, -21.00454198]])"
      ]
     },
     "execution_count": 13,
     "metadata": {},
     "output_type": "execute_result"
    }
   ],
   "source": [
    "np.dot(an,ab)"
   ]
  },
  {
   "cell_type": "code",
   "execution_count": 18,
   "id": "f89e704e",
   "metadata": {},
   "outputs": [
    {
     "data": {
      "text/plain": [
       "((2, 1), (1, 3))"
      ]
     },
     "execution_count": 18,
     "metadata": {},
     "output_type": "execute_result"
    }
   ],
   "source": [
    "a = np.random.rand(2,3)\n",
    "np.sum(a, axis=1, keepdims= True).shape, np.sum(a, axis=0, keepdims= True).shape"
   ]
  },
  {
   "cell_type": "code",
   "execution_count": null,
   "id": "713b85b8",
   "metadata": {},
   "outputs": [],
   "source": []
  }
 ],
 "metadata": {
  "kernelspec": {
   "display_name": "Python 3 (ipykernel)",
   "language": "python",
   "name": "python3"
  },
  "language_info": {
   "codemirror_mode": {
    "name": "ipython",
    "version": 3
   },
   "file_extension": ".py",
   "mimetype": "text/x-python",
   "name": "python",
   "nbconvert_exporter": "python",
   "pygments_lexer": "ipython3",
   "version": "3.9.13"
  }
 },
 "nbformat": 4,
 "nbformat_minor": 5
}
